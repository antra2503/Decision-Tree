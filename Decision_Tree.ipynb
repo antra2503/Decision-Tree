{
  "nbformat": 4,
  "nbformat_minor": 0,
  "metadata": {
    "colab": {
      "provenance": []
    },
    "kernelspec": {
      "name": "python3",
      "display_name": "Python 3"
    },
    "language_info": {
      "name": "python"
    }
  },
  "cells": [
    {
      "cell_type": "markdown",
      "source": [
        "# Theory Questions"
      ],
      "metadata": {
        "id": "Nb0NeHuwC5tZ"
      }
    },
    {
      "cell_type": "markdown",
      "source": [
        "**Q1. What is a Decision Tree, and how does it work?**\n",
        "\n",
        "--> A Decision Tree is a supervised machine learning algorithm used for both classification and regression tasks. It works like a flowchart, where:\n",
        "\n",
        "Each internal node represents a decision based on a feature.\n",
        "\n",
        "Each branch represents the outcome of a decision.\n",
        "\n",
        "Each leaf node represents the final output label or value.\n",
        "\n",
        "The algorithm splits the data into subsets based on feature values in such a way that the resulting subsets are as pure as possible (i.e., mostly contain a single class). This is done recursively, forming a tree structure.\n",
        "\n",
        "**Q2. What are impurity measures in Decision Trees?**\n",
        "\n",
        "--> Impurity measures determine how mixed the classes are in a dataset. A node is \"pure\" if all samples belong to the same class. The most common impurity measures are:\n",
        "\n",
        "Gini Impurity\n",
        "\n",
        "Entropy (Information Gain)\n",
        "\n",
        "These are used to decide the best feature and value for splitting the dataset at each step.\n",
        "\n",
        "**Q3. What is the mathematical formula for Gini Impurity?**\n",
        "\n",
        "--> The Gini Impurity for a dataset is calculated using the formula:\n",
        "\n",
        "![image.png](data:image/png;base64,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)\n",
        "\n",
        "Where:\n",
        "\n",
        "𝐶\n",
        "= number of classes\n",
        "\n",
        "𝑝\n",
        "𝑖\n",
        "​\n",
        "  = probability of class\n",
        "𝑖\n",
        "in the node\n",
        "\n",
        "If a node is pure (contains only one class), the Gini Impurity is 0.\n",
        "\n",
        "**Q4. What is the mathematical formula for Entropy?**\n",
        "\n",
        "--> The Entropy of a dataset is given by:\n",
        "\n",
        "![image.png](data:image/png;base64,iVBORw0KGgoAAAANSUhEUgAAARYAAABKCAYAAAB+dnt3AAAAAXNSR0IArs4c6QAAAARnQU1BAACxjwv8YQUAAAAJcEhZcwAADsMAAA7DAcdvqGQAABOQSURBVHhe7Z0BTFt3fse/W29y1E5GqQZKN55oA9cuuMklzqrsRdHhFA1o7jDjjrk5eU5OBFJRyJXMSuvzurOsVsxN5MZpQ1Aaai0h1nY+7lqg1wOqNGar4nJdSG6tk2tqqkRmTQWaIqwpOkuNtt/ffhjbQAP42WnI7yMZ+//38+O99/+/7//3+//+///7o0ceeeT/wDAMoyJ/rLwzDMOoBgsLwzCqw8LCMIzqsLAwDKM6LCwMw6gOCwuTB3SwdPgwfO4iLo6OYnR0GD6bAdJeH3qPVCvbMCsJFhYmt1Ta0Ts6AKt+Cn5rLTZu2YItW/bg7PpXMGLTIfa7IWVDZiXBwsLkjpIm+A42oSzcgdqadnQHI8oXEXQPhxG9FUHIq2QxKwoWFiZHSLB3WiFrxtBj7yYpyeBkBJNXQ+hRkszKgoWFyQ31TtSVazD1Wz/c15S8VEr60PGzzrmCw6wIWFiYnCBtK0Uhogh/6FdyMrgWRCDpGjErDRYWJidUrymgv5OIvJFIpyPBesQDi5JiVh4sLExOGPrvSfqrQcG2RDqNSjsMf/YZ96+sYFhYmJwQ6QwgFJNQvtOg5CiISNEBLfrsnUoGsxLhZROYnCHt9eL0fhmrrgQRDEeB1cXY9OcxDB0yo+OMshGzImFhYXKMDoZ6A7ZvAM5/EED/mZCSz6xkWFgYhlEd7mNhGEZ1WFgYhlEdFhaGYVSHhYVhGNVhYWEYRnU4KsQsAxeGPzehTEkJYjdjyqfbcJ8GGo3yeQFCJytQ6+R5RHczLCzMsjC4R+Ctl5RUDGOvV6Hh8BLFYL0BRv1mbK2QIX9HD2m1kn+tH+bt7QgqSebug10hZlkErA74x2esFA30e9+Eq1JJLpaPA+g/6YatsQEVm9eSldIPMUAXJTKaGxKb3IvoKqshlyiJLJDkahjWK4k8w8LCLJMAbE3dGLupJDVlqLO5kDEzaEmETrajqq4d/eNaGH7sxIw9dC9hcAzAe2A7NPOtYbNEIvdvh/1fhpcu+CrAwsIsn2tu7H8tCGFkCDSlJrxywqSklgm5Qe1NbgQLDbDONzNadSTIO4yolr8BMtbog2cn0PeMjWRbBc7YsOd0FDUHfWhSwQJaCvnvY+kYxuc7U7v9Fib6gQMbd/Hk+m86Tacuwr5Nq6SiCLpqYX4ju85XYcaX/u8QAh8rGTnAcmIUzsrC+OdosAMbzd3xz3cGE7yjLpR+aEbFc2r2LklwvjOCuun8nl/+LRZ7FdauXUv+uUiITr+18fTsqwJm1xAit4Dpqex029Q1gssXe2FX0kxu6N5F7kvSdNdCftaVdQsZCeZWVAQ9zVuwtnkIU0r6TiI5LDA8GELgVbW7rCNwDI1BI1vgyYsFmOAOuUJWlD0k3iMI/yqekUIEwTdaELxKrciNbFo9I2r0EjSxKD5RcphcEUD7y36EZ/pytTKsx12QleQ3mjPTmFY+3jkktG7TAZ8G4VChb2UOrwcRuilh0878lcidEZbdepTdT+8T4+hLXkgZTbbWlM6/KKLZ6ErJkyglKzc2EUK/ksXkEOHP+0JkgybQPFoH58FsunLvJSzQPUxN6qe5cvvdCE+QfOmezluH+B0RFvmJYjKYSToi52fHKpTUwVS/NXnikXAQ504qCfEkPYcHrgMm+iSQIO+0wuX2wNliUPISCN/cWG+EsbU8vq/I1c8onRK+W2+B0+2CtSHxK12D2A+la+e75LP/x+NoSg8BZuwH602wdqQeo0IJCWbasc8gOg3Tj/1uJ/Lys3AHk125KGtwoisnEYnM+qCD6YALng4rTCqGV+N146gPvb4uOPfKybqZxnoDWulYPDN1geqFyzeAYb8HlsW6g406SPdFMRGaryVV51zD/yMW2ipEvp47eUeEpa5MFFEMkWuTCRGob4Wnuw7SxFhyHdTOlhbMLF7YdOoYmkq10O92weejyvreAFw/KMMqFMLwEy96++zJQjea29D2TBv+cYfoII6hQCfSzah7QnzbBF9nE8pW69F00IcB/wi8TTqsorTlyOk0H1QyezB8cRhdP6bvKa3Z0Azv4EzozgSv2I+GCv1gLwaoIo0ep1ZHQ7/b4UTve0rYVSzDSBWsrjBx7N4uo8hNYDsG71GqsPuU9Ioggm77UQRvKEkqleocRCRMJ6g+PKqBzuxC7ztUjue8sKyjUio2wunPDK/qYNixgCgsiAF2/yh6D1Aphn6OU8NhSD/yYvhsV5pYiBXyRv1d2CUKHkWofnEAn/vbUHQthqK/MqBmsaL6l4XU0E4jekVJp6DWuXaLNYi1hWmjpXPJHRh5a0XvJ63QkyuUHAauDPMOedei9uVEVpISJwZ6JPR89xzqLtoha9OjDq73PoepMIiOjWbM9nkb4R31UPUg339LY9IVkhwDOF3Sg4qROlx0yNBe60fj9vNoPu+EvHoKAesWNL4lKgy1UgdkaH7bgVrzzMO2SCTE/5+g33+ox8CGQWz8180YdRugHe/HC01KByb99qJNRoTOpadkFK2xF1BxqIYqpQnSf7qxzpSQS+svL6N10yT6t1egfQG/uvrIMDyVS7klIhiyVqH9655aKka7ls1EcG5DbAoX3g0q578EKrswcqI6WcFFxGX2OmaLHQPn9RjcfAqbRRlrw+h/fg/aB8TeZ8qoG2u/3xHfWu8eQW99DP61VbDFczJJTE8oSokKmU6M0g37Bww1V6BlZgnNEqq3v26F7mo3qmjfESWKY4gNwfzdlrjlLdH/GqkvQuiNKnR8VIyJM4u8dgeH8XkD5jlGFc81/j80GNpF5/SBkpdD8m+xNM70rwyh8fF1WCde6zoQjEYwkQwCkfJWKk6CsDxCg/CXPI5iuh9iH/thS4YyjSgS98gtYZuksED/irFUg/EP/JA2CFcshrH+dpKeAAYDQQR9R+EgUREF5npWRmFsgSf4FZfBXqJB6D86ye0qJpuJzMyRlKjIAySS9CY9aodemkTwUADyP8jUUsTiv0lghK6Ytpoax/sLiIpg6LmqxPVZ9Os2okIYf5Sw6Bb1+skuOtJlcKYFjt5wsky0shWH9y/NZliQ3WXQ/P4sOku2olhc/HFqPOI3mqAAmm/R20NkSSYyMPaaDY3mPQuIynzYYTHQjqlsfpO6Lu81N8LXyXItr4Y9btnqE/8/Np105yO3xBlrIJUbEEwTFcWlFu7LUsbLqH6uBdCWKh9zTN6FRdYr/StXz6XMBSlD4U0qSEVJ5SPH8IpZEZYuM2pb/IClNN4Chj8SrYXCNkVArs66UHFmtr3gTqQVOndVodFLXz9G394KY+ywyI2gx2qG+Z96Evt9sY6sItrnp8GMJ/gVQftA4tP55iqYX6eWrTT+XxBK+efGcikuLNNTPbDV1MJ2TcbTG2i7myGcpd/E2fZU/Lij4XN571jutzegqqZqka9Zd3SpBJ53oO9KsisXusomuhVV4GQjqsx0VOQKx6/+pZSLX6+DJBqtKFmfIl0io7osurQHo+0W/R30HiVrMpGTgYTSHeJ9DBMiTl0oUVOUQCLLWzRx4Y9Sa6MBrsFeOKskrNIaYD01gtFTTfFjvy2qn+skIsl+y9ySZ2GRUCduanHxL6RefBuqts64LE1ooxYh6E1/gl7TOvG7VKuGBOjvNtEeyRIIpAvIfNvO0kTWAr1NjM/7XJvEb+eKEvaTpUUVLnblnOJyWaB/mCpSRmTrqcdE0zJFlpFSwCV1KCe/XAhV8ibdkRC+yOXbDFgSbku8D2qxL3XmmKhDELZnehAibYmN+9HyfQfdiuph2UStOZXxeP/sjSRXiqcv0tUPv49IpQu9nW1ofmkAI0eWEGaNxhKWlqZggXB5TNzLhB+OYbLKHtCjbdALj3cAvTuKMHXGjf0zDYhgXxtq1kzj0gftaG+rJYsygsJtzXDWK98Lrkdpr0WQdivpDNQ4V/l+IXr5I8/CYpodvxK3FuZiOEo37PUA3Gl+oBFbRb/AjQmcS+anWwKmE+Rfxm3AzG0N6Do7DNcm8Zmo3wrxdbxAlKxUYuRWUe1C9It4UkGCnVwzDQlG0K/IwzYyT1fTlqmRrW1Po5xEK3blLE7E3SqiUqIqQ2c8PitU1ri4LiR8s0gbtuJJssoW/9oKXUIXvwFQS95hgu4mWX5NKg1RTyJj68NUiNEJnE+tD+LkY2GcPdmP1kYdJlw/R1RYH+K1WN46j4iY/6TVKlGYGWQUiHuTLN2QMvaq9a+LMPbPVWh57W28P3ACP2uswpbmTPeZZEpLVo6oBERwbIJqVyGK48EEhatU38iOp83mQZ1z1a0uoEpP94SSzjX5FZZk/wq18omcWdab4PSNoItUPzTkSC+cmT6TNJcnYQlEfzdIPij5xRumcNYl8h9H4YOz2xoO2lH+hR+dF8R3VN3jzxSOIXJpfkO3JxBSCnm2lA22YzCVkxXT+wIaexN5kjFhdWj+ZKYlkGDdXw2JCrvvkG1WbOJClQK1LtXl9Bvhw6eJ51wivg60W6mlW/TLge7b7DNfGA6+Cat+Ev7nzej+mn6kZUFWYKmwOr+V6M8SSPutqC4hS3igAza6BoGjHXCv+VvoCiO48G+zTvft6YS7nywRrR41qf1ClbvijcZUoGd2ENstLfQWF56uTAj7Uw1WOFsyrMbXzdi4dh1q43WTJCHeFRDBpXcT6ThvnYvP6i4qmadHS5VzlbFZ0ubV9c5PVIhMtMv1ZM6lmGNpCwNp6KLNKO1UALYtjWRoprCvF5f36xB+Y7aAhCXiOeuFURuhYlqFieMNSqSIbnD/AFrL6cJfBwpuDuKFOkeyxWz1X4Z1fRjd62qR6EvPhFraE6dhNRRgcnwSsfvJRH1gEkOv7Uf7ydln4iSiOjFMCbOY/PFpam4k0eHrzHwYl/Cxu2BaM4nwlzEUrClDoWiA7vjclNwhZuh6dlJrfrgBjVnOGZqX/VQf9ukRi1/8aUxGCyA99AeMnXbA7Jq1jZp8F2Ev6EPFTwdRHA0imCFwFrJy7QYpWfdiZP36H6+Fg+qA8UUXrDv1WHU9gulbGrrpqT6868Yeq9IXR8gvDcNrFm5KBrfIsj00Ux9TiEeWmlB4xoGK59Jd/Xi9XBNIRpiSqHGu2zwYOVWNqcPr0JDqpuWQu2ShJxGf12J8TuhTDDLbBE2kf868El2lEaUYn/uArPUGVP/pOIZu16GnhGVjX16YZ1sl1BcT4WwHpugYtDfm246OUDag+IsAomV0PNoopmQ7fA0S3XT5K+R8IkL1Awd0CB3KfiLiQsRvIjkWHx7g+LIam1ZH5wmLt6L3Eys0v6jA4KPH8O2uWrQv2ZpL1K9CTRTjbwWQVpMafbj4UzrP18wwvz77ja7BCfsBC9kI6UMdEg2MB3LYjb9vmxWnJPEQvR7jz29JWsUCNc7VcHQE3g2X0Eiipa5LujC8gtxy2EaVgFqAgttZHaLyvShDe8WPtTWiA4gE6TwJ0lfzWGUrAXLzho/WAQMtqHo+V1VYRte/+1CtzRy7lIm41lYU/j6EWGwQzzaqNY4mgeXURTg3hOY9hsR4ltTxJGLAnR36sQ40CCtjnweeKLmuGREaMUvc+qBfGScjUOFchZXUZ0HsWO6Efj7yP47lLkdMGbCYE9MFpm9Mwjgz3mY+ysSIyihCwUEqYCOc77RBvi+EHvsKFBUxyvigCUVj5C6oICqmgz54MqMkIqS6O9HXgRtRTNZ/3ZSIbph/0Ai314FalUVF0HNyEGGNHs1ea1qfim63B29WSuTq+pHo5ifX2uckS6UHpz7VwtjihNdYDjJe5yBmifdpTHhTzLFS5VwlWF+1QPqvoyljv/IDWyxLpLVrGHWPKAki9qkftc8t0JaUWOA53gbDatqOHPHpsT4cdXakLDGwQhCi8it7fFRq+w87sje3Kz0YOVKKwPdq02f77uvC8PdSRnjFLsFf1/41LXmOEfOCbBbUfKcI+IrSoqM+FkHwFyfQcbg/cYPbBnB5r4gophJeeCQw1Zmu4yaqVxMofyy7c9W/1AvXmkHsmROpyj0sLEyWGOB6rwt16EPL32QfVpZqnTj2kgVl451Y98OMsUTMXQO7QkwWCDPfA9ODY9mPVRHDDbzDGCDTXaedO+iRubtgi4VZJhKM7jfxilGD4KtuvP2lkr1IpA1P4ttaDQrLSlFcLEFaneIsRG/XWcl802FhYZaF4eAwuhrmGcOhAlMBG7Y0rrju7XsKFhZmGVjg+aUF5cqkTHWJYux4A2wzUyKYuxIWFoZhVIc7bxmGUR0WFoZhVIeFhVGJ5awtm4oBFvNd8cAQZhGwsDCqoHeLxcGdaFXSi0Xe60SXbxijn3hh3fE10yOYuwoWFkYVlr62bIKJj8/hN979OHtdyWBWBCwsTPYsZ21ZBfEo1TlLWzB3PRxuZrJDrLcqVlp7UEbhR8oDzRfziJGMR4uIx7jUTK7cxa/uNdhiYbJi3vVWH9ucsRbvfC898vQkCuYOwBYLkxU6WUb0L5rRe7AUwV0Vy1ilLQFbLCsLFhYma+ast/qEFZ7bPZgr9hnetncmZ0SzsKwsWFiYLJlnvdVp7mO512FhYbIku7VljR29aNMXoqhUgvarKYSvTWP811VoWYELjd9LsLAw2aOEm4c4bMwosLAwDKM6HG5mGEZ1WFgYhlEdFhaGYVSHhYVhGNVhYWEYRnVYWBiGUR0WFoZhVIeFhWEY1WFhYRhGZYD/B2nA6euHma1YAAAAAElFTkSuQmCC)\n",
        "\n",
        "Where:\n",
        "\n",
        "𝐶\n",
        " = number of classes\n",
        "\n",
        "𝑝\n",
        "𝑖\n",
        "​\n",
        "  = probability of class\n",
        "𝑖\n",
        "in the node\n",
        "\n",
        "A higher entropy means the node is more impure.\n",
        "\n",
        "**Q5. What is Information Gain, and how is it used in Decision Trees?**\n",
        "\n",
        "--> Information Gain (IG) is the reduction in entropy after a dataset is split on a feature. It tells us how much \"information\" a feature gives us about the class. It is calculated as:\n",
        "\n",
        "![image.png](data:image/png;base64,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)\n",
        "\n",
        "Where:\n",
        "\n",
        "𝑛\n",
        "𝑖\n",
        "​\n",
        "  = number of samples in the child node\n",
        "\n",
        "𝑛\n",
        "= total number of samples in the parent node\n",
        "\n",
        "The feature with the highest Information Gain is chosen for splitting.\n",
        "\n",
        "**Q6. What is the difference between Gini Impurity and Entropy?**\n",
        "\n",
        "--> Both measure node impurity.\n",
        "\n",
        "Gini Impurity is faster to compute and often used in practice.\n",
        "\n",
        "Entropy is based on information theory and provides a clearer theoretical foundation.\n",
        "\n",
        "Results are usually similar, but they may produce different trees depending on the dataset.\n",
        "\n",
        "**Q7. What is the mathematical explanation behind Decision Trees?**\n",
        "\n",
        "--> Mathematically, decision trees build a model by:\n",
        "\n",
        "Selecting the best feature to split the data based on a criterion (Gini or Entropy).\n",
        "\n",
        "Recursively splitting the data until a stopping condition is met (like max depth or minimum samples).\n",
        "\n",
        "Using impurity measures and gain/loss functions to evaluate splits.\n",
        "\n",
        "The model maps features\n",
        "𝑋\n",
        "to output\n",
        "𝑌\n",
        "using a series of if-else rules.\n",
        "\n",
        "**Q8. What is Pre-Pruning in Decision Trees?**\n",
        "\n",
        "--> Pre-pruning (early stopping) stops the tree from growing once a certain condition is met, such as:\n",
        "\n",
        "Maximum depth\n",
        "\n",
        "Minimum number of samples required to split\n",
        "\n",
        "Minimum gain in impurity\n",
        "\n",
        "It helps prevent overfitting by limiting the tree's complexity during construction.\n",
        "\n",
        "**Q9. What is Post-Pruning in Decision Trees?**\n",
        "\n",
        "--> Post-pruning (also called cost complexity pruning) allows the tree to grow fully and then removes nodes that do not improve performance. This is done using:\n",
        "\n",
        "Validation data to evaluate performance\n",
        "\n",
        "Pruning back nodes that have low importance\n",
        "\n",
        "It helps in simplifying the model after training.\n",
        "\n",
        "**Q10. What is the difference between Pre-Pruning and Post-Pruning?**\n",
        "\n",
        "--> pre-pruning limits tree growth during construction by setting constraints like maximum depth or minimum information gain, while post-pruning allows the tree to grow fully and then removes branches deemed unnecessary based on a cost-complexity parameter\n",
        "\n",
        "**Q11. What is a Decision Tree Regressor?**\n",
        "\n",
        "--> A Decision Tree Regressor is a version of the decision tree used for predicting continuous numerical values instead of categories. Instead of class labels, it outputs the mean value of target values in a leaf node. The splits are made to minimize variance or Mean Squared Error (MSE) in regression tasks.\n",
        "\n",
        "**Q12. What are the advantages and disadvantages of Decision Trees?**\n",
        "\n",
        "--> Advantages:\n",
        "\n",
        "Easy to understand and visualize.\n",
        "\n",
        "No need for feature scaling.\n",
        "\n",
        "Can handle both numerical and categorical data.\n",
        "\n",
        "Fast inference.\n",
        "\n",
        "Disadvantages:\n",
        "\n",
        "Prone to overfitting.\n",
        "\n",
        "Unstable with small changes in data.\n",
        "\n",
        "Can create biased trees if some classes dominate.\n",
        "\n",
        "**Q13. How does a Decision Tree handle missing values?**\n",
        "\n",
        "--> Some decision tree algorithms like CART or C4.5 handle missing values by:\n",
        "\n",
        "Using surrogate splits (backup rules when main feature is missing).\n",
        "\n",
        "Ignoring missing values during splitting.\n",
        "\n",
        "Splitting samples with missing values across all branches with weights.\n",
        "\n",
        "However, scikit-learn’s default DecisionTreeClassifier does not handle missing values directly—you must fill or drop them.\n",
        "\n",
        "**Q14. How does a Decision Tree handle categorical features?**\n",
        "\n",
        "--> Decision Trees can handle categorical features by creating branches for each category.\n",
        "\n",
        "Some implementations automatically encode categories; others require one-hot encoding before training.\n",
        "\n",
        "scikit-learn’s default trees require encoding since they treat all input as numerical.\n",
        "\n",
        "**Q15. What are some real-world applications of Decision Trees?**\n",
        "\n",
        "--> Applications include:\n",
        "\n",
        "Medical diagnosis: Predicting diseases from symptoms (e.g., breast cancer diagnosis).\n",
        "\n",
        "Credit scoring: Classifying loan applicants as high/low risk.\n",
        "\n",
        "Customer segmentation: Dividing customers based on behavior.\n",
        "\n",
        "Fraud detection: Spotting unusual transactions.\n",
        "\n",
        "Manufacturing: Identifying faulty products on the assembly line."
      ],
      "metadata": {
        "id": "L8ps5IlGAICa"
      }
    },
    {
      "cell_type": "markdown",
      "source": [
        "# Practical Questions"
      ],
      "metadata": {
        "id": "hTnK7ZssC9vx"
      }
    },
    {
      "cell_type": "code",
      "execution_count": 1,
      "metadata": {
        "colab": {
          "base_uri": "https://localhost:8080/"
        },
        "id": "6jnlsQJlAE4g",
        "outputId": "ec12ac6a-12b4-4dea-d846-448d7ed6d6c0"
      },
      "outputs": [
        {
          "output_type": "stream",
          "name": "stdout",
          "text": [
            "Model Accuracy: 1.0\n"
          ]
        }
      ],
      "source": [
        "#16. Write a Python program to train a Decision Tree Classifier on the Iris dataset and print the model accuracy\n",
        "from sklearn.datasets import load_iris\n",
        "from sklearn.tree import DecisionTreeClassifier\n",
        "from sklearn.model_selection import train_test_split\n",
        "from sklearn.metrics import accuracy_score\n",
        "\n",
        "iris = load_iris()\n",
        "X, y = iris.data, iris.target\n",
        "\n",
        "X_train, X_test, y_train, y_test = train_test_split(X, y, test_size=0.2, random_state=42)\n",
        "clf = DecisionTreeClassifier()\n",
        "clf.fit(X_train, y_train)\n",
        "\n",
        "y_pred = clf.predict(X_test)\n",
        "print(\"Model Accuracy:\", accuracy_score(y_test, y_pred))"
      ]
    },
    {
      "cell_type": "code",
      "source": [
        "#17. Write a Python program to train a Decision Tree Classifier using Gini Impurity as the criterion and print the feature importances\n",
        "clf = DecisionTreeClassifier(criterion='gini')\n",
        "clf.fit(X_train, y_train)\n",
        "\n",
        "print(\"Feature Importances:\", clf.feature_importances_)"
      ],
      "metadata": {
        "colab": {
          "base_uri": "https://localhost:8080/"
        },
        "id": "VZeqgVX9DVe7",
        "outputId": "a87a2054-83a0-4485-deff-ed393f94e098"
      },
      "execution_count": 2,
      "outputs": [
        {
          "output_type": "stream",
          "name": "stdout",
          "text": [
            "Feature Importances: [0.01667014 0.         0.40593501 0.57739485]\n"
          ]
        }
      ]
    },
    {
      "cell_type": "code",
      "source": [
        "#18. Write a Python program to train a Decision Tree Classifier using Entropy as the splitting criterion and print the model accuracy\n",
        "clf = DecisionTreeClassifier(criterion='entropy')\n",
        "clf.fit(X_train, y_train)\n",
        "\n",
        "y_pred = clf.predict(X_test)\n",
        "print(\"Model Accuracy:\", accuracy_score(y_test, y_pred))"
      ],
      "metadata": {
        "colab": {
          "base_uri": "https://localhost:8080/"
        },
        "id": "Mr0BdVybDb7-",
        "outputId": "1a1be1d0-8880-43de-9329-c4d41cdde199"
      },
      "execution_count": 3,
      "outputs": [
        {
          "output_type": "stream",
          "name": "stdout",
          "text": [
            "Model Accuracy: 1.0\n"
          ]
        }
      ]
    },
    {
      "cell_type": "code",
      "source": [
        "#19. Write a Python program to train a Decision Tree Regressor on a housing dataset and evaluate using Mean Squared Error (MSE)\n",
        "from sklearn.datasets import fetch_california_housing\n",
        "from sklearn.tree import DecisionTreeRegressor\n",
        "from sklearn.metrics import mean_squared_error\n",
        "\n",
        "data = fetch_california_housing()\n",
        "X, y = data.data, data.target\n",
        "\n",
        "X_train, X_test, y_train, y_test = train_test_split(X, y, test_size=0.2, random_state=42)\n",
        "reg = DecisionTreeRegressor()\n",
        "reg.fit(X_train, y_train)\n",
        "\n",
        "y_pred = reg.predict(X_test)\n",
        "print(\"MSE:\", mean_squared_error(y_test, y_pred))"
      ],
      "metadata": {
        "colab": {
          "base_uri": "https://localhost:8080/"
        },
        "id": "DYj9c4SRDiwH",
        "outputId": "bb658103-2deb-4b14-d3e3-0205de816c03"
      },
      "execution_count": 4,
      "outputs": [
        {
          "output_type": "stream",
          "name": "stdout",
          "text": [
            "MSE: 0.5012994821067345\n"
          ]
        }
      ]
    },
    {
      "cell_type": "code",
      "source": [
        "#20. Write a Python program to train a Decision Tree Classifier and visualize the tree using graphviz\n",
        "from sklearn.datasets import load_iris\n",
        "from sklearn.tree import DecisionTreeClassifier, export_graphviz\n",
        "from sklearn.model_selection import train_test_split\n",
        "import graphviz\n",
        "\n",
        "# Load dataset\n",
        "iris = load_iris()\n",
        "X, y = iris.data, iris.target\n",
        "\n",
        "# Train-test split\n",
        "X_train, X_test, y_train, y_test = train_test_split(X, y, random_state=42)\n",
        "\n",
        "# Train classifier\n",
        "clf = DecisionTreeClassifier()\n",
        "clf.fit(X_train, y_train)\n",
        "\n",
        "# Export tree to dot format\n",
        "dot_data = export_graphviz(clf, out_file=None,\n",
        "                           feature_names=iris.feature_names,\n",
        "                           class_names=iris.target_names,\n",
        "                           filled=True, rounded=True)\n",
        "\n",
        "# Visualize tree\n",
        "graph = graphviz.Source(dot_data)\n",
        "graph.render(\"iris_tree\", format = 'pdf')  # This saves the tree as a PDF file: iris_tree.pdf\n",
        "graph.view()               # Opens the tree PDF (optional)"
      ],
      "metadata": {
        "colab": {
          "base_uri": "https://localhost:8080/",
          "height": 35
        },
        "id": "DM4y9rlwDouX",
        "outputId": "9b320df1-84a0-40fb-8eea-ff73d9ceae4e"
      },
      "execution_count": 9,
      "outputs": [
        {
          "output_type": "execute_result",
          "data": {
            "text/plain": [
              "'iris_tree.pdf'"
            ],
            "application/vnd.google.colaboratory.intrinsic+json": {
              "type": "string"
            }
          },
          "metadata": {},
          "execution_count": 9
        }
      ]
    },
    {
      "cell_type": "code",
      "source": [
        "#21. Write a Python program to train a Decision Tree Classifier with a maximum depth of 3 and compare its accuracy with a fully grown tree\n",
        "clf_limited = DecisionTreeClassifier(max_depth=3)\n",
        "clf_limited.fit(X_train, y_train)\n",
        "acc_limited = accuracy_score(y_test, clf_limited.predict(X_test))\n",
        "\n",
        "clf_full = DecisionTreeClassifier()\n",
        "clf_full.fit(X_train, y_train)\n",
        "acc_full = accuracy_score(y_test, clf_full.predict(X_test))\n",
        "\n",
        "print(\"Accuracy with max_depth=3:\", acc_limited)\n",
        "print(\"Accuracy with full tree:\", acc_full)"
      ],
      "metadata": {
        "colab": {
          "base_uri": "https://localhost:8080/"
        },
        "id": "6SGSVxgpEq0j",
        "outputId": "3a86f9d4-32a1-4121-af0d-9ef6104b1373"
      },
      "execution_count": 10,
      "outputs": [
        {
          "output_type": "stream",
          "name": "stdout",
          "text": [
            "Accuracy with max_depth=3: 1.0\n",
            "Accuracy with full tree: 1.0\n"
          ]
        }
      ]
    },
    {
      "cell_type": "code",
      "source": [
        "#22. Write a Python program to train a Decision Tree Classifier using min_samples_split=5 and compare its accuracy with a default tree\n",
        "clf_custom = DecisionTreeClassifier(min_samples_split=5)\n",
        "clf_custom.fit(X_train, y_train)\n",
        "acc_custom = accuracy_score(y_test, clf_custom.predict(X_test))\n",
        "\n",
        "clf_default = DecisionTreeClassifier()\n",
        "clf_default.fit(X_train, y_train)\n",
        "acc_default = accuracy_score(y_test, clf_default.predict(X_test))\n",
        "\n",
        "print(\"Accuracy with min_samples_split=5:\", acc_custom)\n",
        "print(\"Accuracy with default tree:\", acc_default)"
      ],
      "metadata": {
        "colab": {
          "base_uri": "https://localhost:8080/"
        },
        "id": "d72mu0JmE_Yl",
        "outputId": "32c3369d-4021-48fa-aea5-79f8acc9a73e"
      },
      "execution_count": 11,
      "outputs": [
        {
          "output_type": "stream",
          "name": "stdout",
          "text": [
            "Accuracy with min_samples_split=5: 1.0\n",
            "Accuracy with default tree: 1.0\n"
          ]
        }
      ]
    },
    {
      "cell_type": "code",
      "source": [
        "#23. Write a Python program to apply feature scaling before training a Decision Tree Classifier and compare its accuracy with unscaled data\n",
        "from sklearn.preprocessing import StandardScaler\n",
        "\n",
        "scaler = StandardScaler()\n",
        "X_scaled = scaler.fit_transform(X)\n",
        "\n",
        "X_train_s, X_test_s, y_train_s, y_test_s = train_test_split(X_scaled, y, test_size=0.2, random_state=42)\n",
        "\n",
        "clf_scaled = DecisionTreeClassifier()\n",
        "clf_scaled.fit(X_train_s, y_train_s)\n",
        "acc_scaled = accuracy_score(y_test_s, clf_scaled.predict(X_test_s))\n",
        "\n",
        "clf_unscaled = DecisionTreeClassifier()\n",
        "clf_unscaled.fit(X_train, y_train)\n",
        "acc_unscaled = accuracy_score(y_test, clf_unscaled.predict(X_test))\n",
        "\n",
        "print(\"Accuracy with scaled data:\", acc_scaled)\n",
        "print(\"Accuracy with unscaled data:\", acc_unscaled)"
      ],
      "metadata": {
        "colab": {
          "base_uri": "https://localhost:8080/"
        },
        "id": "4KY18twnFEDo",
        "outputId": "b785c45f-12ed-438b-8ebd-7101f5af72a6"
      },
      "execution_count": 12,
      "outputs": [
        {
          "output_type": "stream",
          "name": "stdout",
          "text": [
            "Accuracy with scaled data: 1.0\n",
            "Accuracy with unscaled data: 1.0\n"
          ]
        }
      ]
    },
    {
      "cell_type": "code",
      "source": [
        "#24. Write a Python program to train a Decision Tree Classifier using One-vs-Rest (OvR) strategy for multiclass classification\n",
        "from sklearn.multiclass import OneVsRestClassifier\n",
        "\n",
        "ovr_model = OneVsRestClassifier(DecisionTreeClassifier())\n",
        "ovr_model.fit(X_train, y_train)\n",
        "\n",
        "print(\"OvR Accuracy:\", accuracy_score(y_test, ovr_model.predict(X_test)))"
      ],
      "metadata": {
        "colab": {
          "base_uri": "https://localhost:8080/"
        },
        "id": "IPZTj3X5FIJW",
        "outputId": "6268f9db-014c-4df4-9ff4-b986dcde4d4d"
      },
      "execution_count": 13,
      "outputs": [
        {
          "output_type": "stream",
          "name": "stdout",
          "text": [
            "OvR Accuracy: 1.0\n"
          ]
        }
      ]
    },
    {
      "cell_type": "code",
      "source": [
        "#25. Write a Python program to train a Decision Tree Classifier and display the feature importance scores\n",
        "clf = DecisionTreeClassifier()\n",
        "clf.fit(X_train, y_train)\n",
        "\n",
        "for name, importance in zip(iris.feature_names, clf.feature_importances_):\n",
        "    print(f\"{name}: {importance:.4f}\")"
      ],
      "metadata": {
        "colab": {
          "base_uri": "https://localhost:8080/"
        },
        "id": "0YynPgIFFM_X",
        "outputId": "60c0d905-168d-449b-dec4-67b25a419929"
      },
      "execution_count": 14,
      "outputs": [
        {
          "output_type": "stream",
          "name": "stdout",
          "text": [
            "sepal length (cm): 0.0179\n",
            "sepal width (cm): 0.0000\n",
            "petal length (cm): 0.8997\n",
            "petal width (cm): 0.0824\n"
          ]
        }
      ]
    },
    {
      "cell_type": "code",
      "source": [
        "#26. Write a Python program to train a Decision Tree Regressor with max_depth=5 and compare its performance with an unrestricted tree\n",
        "reg_limited = DecisionTreeRegressor(max_depth=5)\n",
        "reg_limited.fit(X_train, y_train)\n",
        "mse_limited = mean_squared_error(y_test, reg_limited.predict(X_test))\n",
        "\n",
        "reg_full = DecisionTreeRegressor()\n",
        "reg_full.fit(X_train, y_train)\n",
        "mse_full = mean_squared_error(y_test, reg_full.predict(X_test))\n",
        "\n",
        "print(\"MSE with max_depth=5:\", mse_limited)\n",
        "print(\"MSE with full tree:\", mse_full)"
      ],
      "metadata": {
        "colab": {
          "base_uri": "https://localhost:8080/"
        },
        "id": "vdl1qXioFR8P",
        "outputId": "18a43250-fc7e-400b-c65d-82b9b05fc569"
      },
      "execution_count": 15,
      "outputs": [
        {
          "output_type": "stream",
          "name": "stdout",
          "text": [
            "MSE with max_depth=5: 0.0\n",
            "MSE with full tree: 0.0\n"
          ]
        }
      ]
    },
    {
      "cell_type": "code",
      "source": [
        "#27. Write a Python program to train a Decision Tree Classifier, apply Cost Complexity Pruning (CCP), and visualize its effect on accuracy\n",
        "path = DecisionTreeClassifier().cost_complexity_pruning_path(X_train, y_train)\n",
        "ccp_alphas = path.ccp_alphas\n",
        "\n",
        "acc_scores = []\n",
        "for alpha in ccp_alphas:\n",
        "    clf = DecisionTreeClassifier(ccp_alpha=alpha)\n",
        "    clf.fit(X_train, y_train)\n",
        "    acc = accuracy_score(y_test, clf.predict(X_test))\n",
        "    acc_scores.append(acc)\n",
        "\n",
        "import matplotlib.pyplot as plt\n",
        "plt.plot(ccp_alphas, acc_scores)\n",
        "plt.xlabel(\"ccp_alpha\")\n",
        "plt.ylabel(\"Accuracy\")\n",
        "plt.title(\"Cost Complexity Pruning Effect\")\n",
        "plt.show()"
      ],
      "metadata": {
        "colab": {
          "base_uri": "https://localhost:8080/",
          "height": 472
        },
        "id": "WAdbuSM8FVYt",
        "outputId": "f5e139ec-7882-415c-e60c-e846935eb406"
      },
      "execution_count": 16,
      "outputs": [
        {
          "output_type": "display_data",
          "data": {
            "text/plain": [
              "<Figure size 640x480 with 1 Axes>"
            ],
            "image/png": "[encoded data removed]"
          },
          "metadata": {}
        }
      ]
    },
    {
      "cell_type": "code",
      "source": [
        "#28. Write a Python program to train a Decision Tree Classifier and evaluate its performance using Precision, Recall, and F1-Score\n",
        "from sklearn.metrics import precision_score, recall_score, f1_score\n",
        "\n",
        "clf = DecisionTreeClassifier()\n",
        "clf.fit(X_train, y_train)\n",
        "y_pred = clf.predict(X_test)\n",
        "\n",
        "print(\"Precision:\", precision_score(y_test, y_pred, average='macro'))\n",
        "print(\"Recall:\", recall_score(y_test, y_pred, average='macro'))\n",
        "print(\"F1 Score:\", f1_score(y_test, y_pred, average='macro'))"
      ],
      "metadata": {
        "colab": {
          "base_uri": "https://localhost:8080/"
        },
        "id": "T_hsquioFZTl",
        "outputId": "5278b4c9-4255-4c7d-b80e-543e991b127c"
      },
      "execution_count": 17,
      "outputs": [
        {
          "output_type": "stream",
          "name": "stdout",
          "text": [
            "Precision: 1.0\n",
            "Recall: 1.0\n",
            "F1 Score: 1.0\n"
          ]
        }
      ]
    },
    {
      "cell_type": "code",
      "source": [
        "#29. Write a Python program to train a Decision Tree Classifier and visualize the confusion matrix using seaborn\n",
        "from sklearn.metrics import confusion_matrix\n",
        "import seaborn as sns\n",
        "\n",
        "cm = confusion_matrix(y_test, y_pred)\n",
        "sns.heatmap(cm, annot=True, cmap=\"Blues\", fmt='g')\n",
        "plt.xlabel(\"Predicted\")\n",
        "plt.ylabel(\"Actual\")\n",
        "plt.title(\"Confusion Matrix\")\n",
        "plt.show()"
      ],
      "metadata": {
        "colab": {
          "base_uri": "https://localhost:8080/",
          "height": 472
        },
        "id": "4atnw3a3Fc_O",
        "outputId": "491c88bb-e246-4d3a-a3db-917931abe88e"
      },
      "execution_count": 18,
      "outputs": [
        {
          "output_type": "display_data",
          "data": {
            "text/plain": [
              "<Figure size 640x480 with 2 Axes>"
            ],
            "image/png": "[encoded data removed]"
          },
          "metadata": {}
        }
      ]
    },
    {
      "cell_type": "code",
      "source": [
        "#30. Write a Python program to train a Decision Tree Classifier and use GridSearchCV to find the optimal values for max_depth and min_samples_split\n",
        "from sklearn.model_selection import GridSearchCV\n",
        "\n",
        "param_grid = {\n",
        "    'max_depth': [2, 3, 4, 5, 6],\n",
        "    'min_samples_split': [2, 5, 10]\n",
        "}\n",
        "\n",
        "grid = GridSearchCV(DecisionTreeClassifier(), param_grid, cv=5)\n",
        "grid.fit(X_train, y_train)\n",
        "\n",
        "print(\"Best Parameters:\", grid.best_params_)\n",
        "print(\"Best Accuracy:\", grid.best_score_)"
      ],
      "metadata": {
        "colab": {
          "base_uri": "https://localhost:8080/"
        },
        "id": "DwCHIynQFgD0",
        "outputId": "336d6fb2-0d2e-4892-fb69-8fb6eff2c9f8"
      },
      "execution_count": 19,
      "outputs": [
        {
          "output_type": "stream",
          "name": "stdout",
          "text": [
            "Best Parameters: {'max_depth': 4, 'min_samples_split': 2}\n",
            "Best Accuracy: 0.9280632411067196\n"
          ]
        }
      ]
    }
  ]
}